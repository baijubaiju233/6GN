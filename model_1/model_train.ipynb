{
 "cells": [
  {
   "metadata": {},
   "cell_type": "markdown",
   "source": "Preprocessing",
   "id": "647a6c13dcc36890"
  },
  {
   "metadata": {
    "collapsed": true,
    "ExecuteTime": {
     "end_time": "2024-11-05T03:26:30.459393Z",
     "start_time": "2024-11-05T03:26:24.248490Z"
    }
   },
   "cell_type": "code",
   "source": [
    "import pandas as pd\n",
    "from sklearn.model_selection import train_test_split\n",
    "df_train = pd.read_csv(\"../final_dataset.csv\")\n",
    "X = df_train.review_text\n",
    "y = df_train.review_score\n",
    "X_train, X_test, y_train, y_test = train_test_split(X, y, test_size=0.3, random_state=42)\n",
    "len(X_train)"
   ],
   "id": "initial_id",
   "outputs": [
    {
     "data": {
      "text/plain": [
       "1206825"
      ]
     },
     "execution_count": 4,
     "metadata": {},
     "output_type": "execute_result"
    }
   ],
   "execution_count": 4
  },
  {
   "metadata": {},
   "cell_type": "markdown",
   "source": "TF-IDF",
   "id": "fae42becdb0f383e"
  },
  {
   "metadata": {
    "ExecuteTime": {
     "end_time": "2024-11-05T11:54:20.835801Z",
     "start_time": "2024-11-05T11:53:31.251657Z"
    }
   },
   "cell_type": "code",
   "source": [
    "from sklearn.feature_extraction.text import TfidfVectorizer\n",
    "from sklearn.neural_network import MLPClassifier\n",
    "from sklearn.metrics import accuracy_score\n",
    "\n",
    "# improve feature extraction：use TfidfVectorizer\n",
    "num_features = 3000\n",
    "vect = TfidfVectorizer(max_features=num_features)\n",
    "\n",
    "# Transform the text data using TfidfVectorizer\n",
    "X_train_dtm = vect.fit_transform(X_train)\n",
    "X_test_dtm = vect.transform(X_test)\n"
   ],
   "id": "618426b3d72ab3b3",
   "outputs": [],
   "execution_count": 13
  },
  {
   "metadata": {},
   "cell_type": "markdown",
   "source": "Model",
   "id": "8f6c0bf9a66fa2b1"
  },
  {
   "metadata": {
    "jupyter": {
     "is_executing": true
    },
    "ExecuteTime": {
     "start_time": "2024-11-05T12:00:50.305534Z"
    }
   },
   "cell_type": "code",
   "source": [
    "# Initialize and train MLPClassifier\n",
    "mlp = MLPClassifier(hidden_layer_sizes=(700,), max_iter=300, alpha=0.01, solver='adam', random_state=42)\n",
    "\n",
    "mlp.fit(X_train_dtm, y_train, verbose=True)\n",
    "\n",
    "# Predict and calculate accuracy\n",
    "predictions_test = mlp.predict(X_test_dtm)\n",
    "accuracy = accuracy_score(y_test, predictions_test)\n",
    "\n",
    "# Result\n",
    "print(f\"Test Accuracy: {accuracy:.2%}\")"
   ],
   "id": "2ea6baf393dc8258",
   "outputs": [
    {
     "name": "stdout",
     "output_type": "stream",
     "text": [
      "Fitting 3 folds for each of 1 candidates, totalling 3 fits\n"
     ]
    }
   ],
   "execution_count": null
  },
  {
   "metadata": {},
   "cell_type": "markdown",
   "source": "Save model",
   "id": "e362f80db61a894d"
  },
  {
   "metadata": {},
   "cell_type": "code",
   "outputs": [],
   "execution_count": null,
   "source": [
    "import joblib\n",
    "joblib.dump(mlp, \"model/mlp_model2.pkl\")"
   ],
   "id": "e5d4955797c9c71f"
  }
 ],
 "metadata": {
  "kernelspec": {
   "display_name": "Python 3",
   "language": "python",
   "name": "python3"
  },
  "language_info": {
   "codemirror_mode": {
    "name": "ipython",
    "version": 2
   },
   "file_extension": ".py",
   "mimetype": "text/x-python",
   "name": "python",
   "nbconvert_exporter": "python",
   "pygments_lexer": "ipython2",
   "version": "2.7.6"
  }
 },
 "nbformat": 4,
 "nbformat_minor": 5
}

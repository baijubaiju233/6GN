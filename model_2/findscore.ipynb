{
 "cells": [
  {
   "cell_type": "code",
   "execution_count": 1,
   "metadata": {},
   "outputs": [
    {
     "name": "stdout",
     "output_type": "stream",
     "text": [
      "     app_id                                  app_name   0.0-0.1   0.1-0.2  \\\n",
      "0        10                            Counter-Strike  0.543860  0.244361   \n",
      "1        20                     Team Fortress Classic  0.677945  0.165414   \n",
      "2        30                             Day of Defeat  0.644110  0.175439   \n",
      "3        50                 Half-Life: Opposing Force  0.494987  0.215539   \n",
      "4        60                                  Ricochet  0.585213  0.187970   \n",
      "..      ...                                       ...       ...       ...   \n",
      "921  498240              Batman - The Telltale Series  0.650376  0.185464   \n",
      "922  506610  Five Nights at Freddy's: Sister Location  0.621079  0.199498   \n",
      "923  529110                  Awkward Dimensions Redux  0.573400  0.207026   \n",
      "924  530330                                 Blameless  0.626943  0.174093   \n",
      "925  555570                    Infestation: The New Z  0.646617  0.186717   \n",
      "\n",
      "      0.2-0.3   0.3-0.4   0.4-0.5   0.5-0.6   0.6-0.7   0.7-0.8   0.8-0.9  \\\n",
      "0    0.106516  0.037594  0.033835  0.015038  0.010025  0.002506  0.002506   \n",
      "1    0.075188  0.030075  0.021303  0.015038  0.006266  0.007519  0.001253   \n",
      "2    0.071429  0.053885  0.023810  0.008772  0.010025  0.006266  0.002506   \n",
      "3    0.098997  0.063910  0.047619  0.025063  0.030075  0.015038  0.003759   \n",
      "4    0.083960  0.052632  0.033835  0.021303  0.018797  0.007519  0.002506   \n",
      "..        ...       ...       ...       ...       ...       ...       ...   \n",
      "921  0.062657  0.050125  0.018797  0.015038  0.010025  0.005013  0.002506   \n",
      "922  0.065245  0.050188  0.025094  0.016311  0.016311  0.002509  0.001255   \n",
      "923  0.087829  0.051443  0.030113  0.027604  0.012547  0.007528  0.001255   \n",
      "924  0.089119  0.040415  0.023834  0.015544  0.018653  0.004145  0.003109   \n",
      "925  0.068922  0.047619  0.017544  0.020050  0.005013  0.003759  0.001253   \n",
      "\n",
      "      0.9-1.0  \n",
      "0    0.003759  \n",
      "1    0.000000  \n",
      "2    0.003759  \n",
      "3    0.005013  \n",
      "4    0.006266  \n",
      "..        ...  \n",
      "921  0.000000  \n",
      "922  0.002509  \n",
      "923  0.001255  \n",
      "924  0.004145  \n",
      "925  0.002506  \n",
      "\n",
      "[926 rows x 12 columns]\n"
     ]
    }
   ],
   "source": [
    "import pandas as pd\n",
    "\n",
    "# load model_1_output and original_dataset\n",
    "model_1_output = pd.read_csv('/Users/hengjiyao/Desktop/spml sem1/EE6405 NLP/6GN-GameRatingPrediction/model_1_output_2.csv')\n",
    "original_dataset = pd.read_csv('/Users/hengjiyao/Desktop/spml sem1/EE6405 NLP/6GN-GameRatingPrediction/model_2/final_top1000.csv')\n",
    "\n",
    "# get unique app_ids\n",
    "unique_app_ids = model_1_output['app_id'].unique()\n",
    "\n",
    "\n",
    "app_id_name_mapping = original_dataset[['app_id', 'app_name']].drop_duplicates().set_index('app_id')['app_name']\n",
    "\n",
    "# through the mapping, add app_name column to model_1_output\n",
    "model_1_output['app_name'] = model_1_output['app_id'].map(app_id_name_mapping)\n",
    "\n",
    "# move app_name column to the second column\n",
    "columns = list(model_1_output.columns)\n",
    "app_id_index = columns.index('app_id')\n",
    "columns.insert(app_id_index + 1, columns.pop(columns.index('app_name')))\n",
    "model_1_output = model_1_output[columns]\n",
    "\n",
    "\n",
    "print(model_1_output)\n"
   ]
  },
  {
   "cell_type": "code",
   "execution_count": 2,
   "metadata": {},
   "outputs": [],
   "source": [
    "game_list_rating = pd.read_csv('/Users/hengjiyao/Desktop/spml sem1/EE6405 NLP/6GN-GameRatingPrediction/model_2/Game_list_rating.csv')"
   ]
  },
  {
   "cell_type": "code",
   "execution_count": 3,
   "metadata": {},
   "outputs": [],
   "source": [
    "# get unique app_names\n",
    "model_1_app_names = model_1_output['app_name'].unique()"
   ]
  },
  {
   "cell_type": "code",
   "execution_count": 4,
   "metadata": {},
   "outputs": [],
   "source": [
    "# get app_name_rating_mapping\n",
    "app_name_rating_mapping = game_list_rating[['Game_Name', 'game_rating']].drop_duplicates().set_index('Game_Name')['game_rating']\n",
    "\n",
    "# through the mapping, add game_rating column to model_1_output\n",
    "model_1_output['game_rating'] = model_1_output['app_name'].map(app_name_rating_mapping)"
   ]
  },
  {
   "cell_type": "code",
   "execution_count": 5,
   "metadata": {},
   "outputs": [],
   "source": [
    "# move game_rating column to the third column\n",
    "columns = list(model_1_output.columns)\n",
    "app_name_index = columns.index('app_name')\n",
    "columns.insert(app_name_index + 1, columns.pop(columns.index('game_rating')))\n",
    "model_1_output = model_1_output[columns]"
   ]
  },
  {
   "cell_type": "code",
   "execution_count": 6,
   "metadata": {},
   "outputs": [
    {
     "name": "stdout",
     "output_type": "stream",
     "text": [
      "     app_id                                  app_name  game_rating   0.0-0.1  \\\n",
      "0        10                            Counter-Strike         4.06  0.543860   \n",
      "1        20                     Team Fortress Classic         2.97  0.677945   \n",
      "2        30                             Day of Defeat         2.84  0.644110   \n",
      "3        50                 Half-Life: Opposing Force         3.82  0.494987   \n",
      "4        60                                  Ricochet         2.41  0.585213   \n",
      "..      ...                                       ...          ...       ...   \n",
      "921  498240              Batman - The Telltale Series          NaN  0.650376   \n",
      "922  506610  Five Nights at Freddy's: Sister Location          NaN  0.621079   \n",
      "923  529110                  Awkward Dimensions Redux          NaN  0.573400   \n",
      "924  530330                                 Blameless          NaN  0.626943   \n",
      "925  555570                    Infestation: The New Z          NaN  0.646617   \n",
      "\n",
      "      0.1-0.2   0.2-0.3   0.3-0.4   0.4-0.5   0.5-0.6   0.6-0.7   0.7-0.8  \\\n",
      "0    0.244361  0.106516  0.037594  0.033835  0.015038  0.010025  0.002506   \n",
      "1    0.165414  0.075188  0.030075  0.021303  0.015038  0.006266  0.007519   \n",
      "2    0.175439  0.071429  0.053885  0.023810  0.008772  0.010025  0.006266   \n",
      "3    0.215539  0.098997  0.063910  0.047619  0.025063  0.030075  0.015038   \n",
      "4    0.187970  0.083960  0.052632  0.033835  0.021303  0.018797  0.007519   \n",
      "..        ...       ...       ...       ...       ...       ...       ...   \n",
      "921  0.185464  0.062657  0.050125  0.018797  0.015038  0.010025  0.005013   \n",
      "922  0.199498  0.065245  0.050188  0.025094  0.016311  0.016311  0.002509   \n",
      "923  0.207026  0.087829  0.051443  0.030113  0.027604  0.012547  0.007528   \n",
      "924  0.174093  0.089119  0.040415  0.023834  0.015544  0.018653  0.004145   \n",
      "925  0.186717  0.068922  0.047619  0.017544  0.020050  0.005013  0.003759   \n",
      "\n",
      "      0.8-0.9   0.9-1.0  \n",
      "0    0.002506  0.003759  \n",
      "1    0.001253  0.000000  \n",
      "2    0.002506  0.003759  \n",
      "3    0.003759  0.005013  \n",
      "4    0.002506  0.006266  \n",
      "..        ...       ...  \n",
      "921  0.002506  0.000000  \n",
      "922  0.001255  0.002509  \n",
      "923  0.001255  0.001255  \n",
      "924  0.003109  0.004145  \n",
      "925  0.001253  0.002506  \n",
      "\n",
      "[926 rows x 13 columns]\n"
     ]
    }
   ],
   "source": [
    "print(model_1_output)"
   ]
  },
  {
   "cell_type": "code",
   "execution_count": 9,
   "metadata": {},
   "outputs": [
    {
     "name": "stdout",
     "output_type": "stream",
     "text": [
      "     app_id                                     app_name  game_rating  \\\n",
      "0        10                               Counter-Strike         4.06   \n",
      "1        20                        Team Fortress Classic         2.97   \n",
      "2        30                                Day of Defeat         2.84   \n",
      "3        50                    Half-Life: Opposing Force         3.82   \n",
      "4        60                                     Ricochet         2.41   \n",
      "..      ...                                          ...          ...   \n",
      "864  394310                                   Punch Club         3.66   \n",
      "874  403640                                 Dishonored 2         4.24   \n",
      "882  409710                          BioShock Remastered         4.27   \n",
      "916  475150              Titan Quest Anniversary Edition         3.95   \n",
      "917  489830  The Elder Scrolls V: Skyrim Special Edition         4.42   \n",
      "\n",
      "      0.0-0.1   0.1-0.2   0.2-0.3   0.3-0.4   0.4-0.5   0.5-0.6   0.6-0.7  \\\n",
      "0    0.543860  0.244361  0.106516  0.037594  0.033835  0.015038  0.010025   \n",
      "1    0.677945  0.165414  0.075188  0.030075  0.021303  0.015038  0.006266   \n",
      "2    0.644110  0.175439  0.071429  0.053885  0.023810  0.008772  0.010025   \n",
      "3    0.494987  0.215539  0.098997  0.063910  0.047619  0.025063  0.030075   \n",
      "4    0.585213  0.187970  0.083960  0.052632  0.033835  0.021303  0.018797   \n",
      "..        ...       ...       ...       ...       ...       ...       ...   \n",
      "864  0.555138  0.201754  0.105263  0.056391  0.035088  0.022556  0.010025   \n",
      "874  0.527569  0.228070  0.075188  0.065163  0.048872  0.031328  0.011278   \n",
      "882  0.703008  0.171679  0.056391  0.025063  0.016291  0.011278  0.011278   \n",
      "916  0.667920  0.161654  0.081454  0.038847  0.015038  0.016291  0.012531   \n",
      "917  0.515547  0.200602  0.100301  0.071214  0.042126  0.030090  0.024072   \n",
      "\n",
      "      0.7-0.8   0.8-0.9   0.9-1.0  \n",
      "0    0.002506  0.002506  0.003759  \n",
      "1    0.007519  0.001253  0.000000  \n",
      "2    0.006266  0.002506  0.003759  \n",
      "3    0.015038  0.003759  0.005013  \n",
      "4    0.007519  0.002506  0.006266  \n",
      "..        ...       ...       ...  \n",
      "864  0.005013  0.005013  0.003759  \n",
      "874  0.008772  0.003759  0.000000  \n",
      "882  0.002506  0.001253  0.001253  \n",
      "916  0.005013  0.001253  0.000000  \n",
      "917  0.007021  0.009027  0.000000  \n",
      "\n",
      "[363 rows x 13 columns]\n"
     ]
    }
   ],
   "source": [
    "cleaned_data = model_1_output.dropna(subset=['game_rating'])\n",
    "print(cleaned_data)"
   ]
  },
  {
   "cell_type": "code",
   "execution_count": 10,
   "metadata": {},
   "outputs": [],
   "source": [
    "# save csv\n",
    "cleaned_data.to_csv('model_1_output_with_score.csv', index=False)\n"
   ]
  }
 ],
 "metadata": {
  "kernelspec": {
   "display_name": "NLP",
   "language": "python",
   "name": "python3"
  },
  "language_info": {
   "codemirror_mode": {
    "name": "ipython",
    "version": 3
   },
   "file_extension": ".py",
   "mimetype": "text/x-python",
   "name": "python",
   "nbconvert_exporter": "python",
   "pygments_lexer": "ipython3",
   "version": "3.12.4"
  }
 },
 "nbformat": 4,
 "nbformat_minor": 2
}
